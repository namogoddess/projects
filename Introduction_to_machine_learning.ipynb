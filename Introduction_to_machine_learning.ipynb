{
 "cells": [
  {
   "cell_type": "markdown",
   "metadata": {},
   "source": [
    "# Рекомендация тарифов"
   ]
  },
  {
   "cell_type": "markdown",
   "metadata": {},
   "source": [
    "В вашем распоряжении данные о поведении клиентов, которые уже перешли на эти тарифы (из проекта курса «Статистический анализ данных»). Нужно построить модель для задачи классификации, которая выберет подходящий тариф. Предобработка данных не понадобится — вы её уже сделали.\n",
    "\n",
    "Постройте модель с максимально большим значением *accuracy*. Чтобы сдать проект успешно, нужно довести долю правильных ответов по крайней мере до 0.75. Проверьте *accuracy* на тестовой выборке самостоятельно."
   ]
  },
  {
   "cell_type": "markdown",
   "metadata": {},
   "source": [
    "### Описание данных"
   ]
  },
  {
   "cell_type": "markdown",
   "metadata": {},
   "source": [
    "Каждый объект в наборе данных — это информация о поведении одного пользователя за месяц.  \n",
    "\n",
    "Известно:  \n",
    "\n",
    "сalls — количество звонков  \n",
    "minutes — суммарная длительность звонков в минутах  \n",
    "messages — количество sms-сообщений  \n",
    "mb_used — израсходованный интернет-трафик в Мб  \n",
    "is_ultra — каким тарифом пользовался в течение месяца («Ультра» — 1, «Смарт» — 0)  "
   ]
  },
  {
   "cell_type": "markdown",
   "metadata": {},
   "source": [
    "## Оглавление  \n",
    "\n",
    "[1.Общая информация о содержимых в файле данных](#шаг_1)  \n",
    "[2.Делим данные на выборки  ](#шаг_2)  \n",
    "[3.Исследуем модели  ](#шаг_3)  \n",
    "[4.Проверяем модель на тестовой выборке](#шаг_4)  \n",
    "[5.Проверяем можель на адекватность](#шаг_5)  \n"
   ]
  },
  {
   "cell_type": "markdown",
   "metadata": {},
   "source": [
    "## 1. Откройте и изучите файл <a id=\"шаг_1\"></a>"
   ]
  },
  {
   "cell_type": "code",
   "execution_count": 1,
   "metadata": {},
   "outputs": [],
   "source": [
    "#тут все нужные библиотеки\n",
    "import pandas as pd\n",
    "from sklearn.model_selection import train_test_split\n",
    "from sklearn.tree import DecisionTreeClassifier\n",
    "from sklearn.ensemble import RandomForestClassifier\n",
    "from sklearn.linear_model import LogisticRegression\n",
    "from sklearn.metrics import accuracy_score"
   ]
  },
  {
   "cell_type": "code",
   "execution_count": 2,
   "metadata": {},
   "outputs": [],
   "source": [
    "#открываем файл\n",
    "data = pd.read_csv('/datasets/users_behavior.csv')\n"
   ]
  },
  {
   "cell_type": "code",
   "execution_count": 3,
   "metadata": {},
   "outputs": [
    {
     "name": "stdout",
     "output_type": "stream",
     "text": [
      "<class 'pandas.core.frame.DataFrame'>\n",
      "RangeIndex: 3214 entries, 0 to 3213\n",
      "Data columns (total 5 columns):\n",
      "calls       3214 non-null float64\n",
      "minutes     3214 non-null float64\n",
      "messages    3214 non-null float64\n",
      "mb_used     3214 non-null float64\n",
      "is_ultra    3214 non-null int64\n",
      "dtypes: float64(4), int64(1)\n",
      "memory usage: 125.7 KB\n"
     ]
    }
   ],
   "source": [
    "data.info()"
   ]
  },
  {
   "cell_type": "code",
   "execution_count": 4,
   "metadata": {},
   "outputs": [
    {
     "data": {
      "text/html": [
       "<div>\n",
       "<style scoped>\n",
       "    .dataframe tbody tr th:only-of-type {\n",
       "        vertical-align: middle;\n",
       "    }\n",
       "\n",
       "    .dataframe tbody tr th {\n",
       "        vertical-align: top;\n",
       "    }\n",
       "\n",
       "    .dataframe thead th {\n",
       "        text-align: right;\n",
       "    }\n",
       "</style>\n",
       "<table border=\"1\" class=\"dataframe\">\n",
       "  <thead>\n",
       "    <tr style=\"text-align: right;\">\n",
       "      <th></th>\n",
       "      <th>calls</th>\n",
       "      <th>minutes</th>\n",
       "      <th>messages</th>\n",
       "      <th>mb_used</th>\n",
       "      <th>is_ultra</th>\n",
       "    </tr>\n",
       "  </thead>\n",
       "  <tbody>\n",
       "    <tr>\n",
       "      <td>2555</td>\n",
       "      <td>31.0</td>\n",
       "      <td>252.77</td>\n",
       "      <td>21.0</td>\n",
       "      <td>13556.92</td>\n",
       "      <td>0</td>\n",
       "    </tr>\n",
       "    <tr>\n",
       "      <td>1347</td>\n",
       "      <td>23.0</td>\n",
       "      <td>147.69</td>\n",
       "      <td>30.0</td>\n",
       "      <td>18417.93</td>\n",
       "      <td>0</td>\n",
       "    </tr>\n",
       "    <tr>\n",
       "      <td>483</td>\n",
       "      <td>77.0</td>\n",
       "      <td>593.45</td>\n",
       "      <td>0.0</td>\n",
       "      <td>20770.04</td>\n",
       "      <td>0</td>\n",
       "    </tr>\n",
       "    <tr>\n",
       "      <td>2123</td>\n",
       "      <td>34.0</td>\n",
       "      <td>252.87</td>\n",
       "      <td>26.0</td>\n",
       "      <td>24550.06</td>\n",
       "      <td>1</td>\n",
       "    </tr>\n",
       "    <tr>\n",
       "      <td>2725</td>\n",
       "      <td>44.0</td>\n",
       "      <td>342.11</td>\n",
       "      <td>25.0</td>\n",
       "      <td>18110.91</td>\n",
       "      <td>0</td>\n",
       "    </tr>\n",
       "  </tbody>\n",
       "</table>\n",
       "</div>"
      ],
      "text/plain": [
       "      calls  minutes  messages   mb_used  is_ultra\n",
       "2555   31.0   252.77      21.0  13556.92         0\n",
       "1347   23.0   147.69      30.0  18417.93         0\n",
       "483    77.0   593.45       0.0  20770.04         0\n",
       "2123   34.0   252.87      26.0  24550.06         1\n",
       "2725   44.0   342.11      25.0  18110.91         0"
      ]
     },
     "execution_count": 4,
     "metadata": {},
     "output_type": "execute_result"
    }
   ],
   "source": [
    "data.sample(5)"
   ]
  },
  {
   "cell_type": "code",
   "execution_count": 5,
   "metadata": {},
   "outputs": [
    {
     "data": {
      "text/plain": [
       "0    2229\n",
       "1     985\n",
       "Name: is_ultra, dtype: int64"
      ]
     },
     "execution_count": 5,
     "metadata": {},
     "output_type": "execute_result"
    }
   ],
   "source": [
    "data['is_ultra'].value_counts()"
   ]
  },
  {
   "cell_type": "markdown",
   "metadata": {},
   "source": [
    "По условию:«Ультра» — 1, «Смарт» — 0, т.е. перекос в пользу смарта более чем в два раза.  В остальном с данными все корректно -пропусков и дубликатов нет, предобработка не требуется.  \n",
    "Целевой признак – is_ultra, т.е. модель должна предсказывать значение 1 если клиенту нужно предложить тариф \"Ультра\" или 0 если предлагается тариф \"Смарт\". Целевой признак является категориальным."
   ]
  },
  {
   "cell_type": "markdown",
   "metadata": {},
   "source": [
    "## 2. Разбейте данные на выборки <a id=\"шаг_2\"></a>"
   ]
  },
  {
   "cell_type": "markdown",
   "metadata": {},
   "source": [
    "Разобьем данные на три части: обучающую, валидационную и тестовую. Т.к. тестовой выборки изначально нет, то делим в пропорции  60%-20%-20%."
   ]
  },
  {
   "cell_type": "code",
   "execution_count": 6,
   "metadata": {},
   "outputs": [],
   "source": [
    "# обучающая выборка = 60% \n",
    "data_train, data_valid = train_test_split(data, test_size=0.4, random_state=12345)\n",
    "# валидационная и тестовая по 20% каждая\n",
    "data_valid, data_test = train_test_split(data_valid, test_size=0.5, random_state=12345)"
   ]
  },
  {
   "cell_type": "code",
   "execution_count": 7,
   "metadata": {},
   "outputs": [
    {
     "data": {
      "text/plain": [
       "1928"
      ]
     },
     "execution_count": 7,
     "metadata": {},
     "output_type": "execute_result"
    }
   ],
   "source": [
    "data_train.shape[0]\n"
   ]
  },
  {
   "cell_type": "code",
   "execution_count": 8,
   "metadata": {},
   "outputs": [
    {
     "data": {
      "text/plain": [
       "643"
      ]
     },
     "execution_count": 8,
     "metadata": {},
     "output_type": "execute_result"
    }
   ],
   "source": [
    "data_valid.shape[0]"
   ]
  },
  {
   "cell_type": "code",
   "execution_count": 9,
   "metadata": {},
   "outputs": [
    {
     "data": {
      "text/plain": [
       "643"
      ]
     },
     "execution_count": 9,
     "metadata": {},
     "output_type": "execute_result"
    }
   ],
   "source": [
    "data_test.shape[0]"
   ]
  },
  {
   "cell_type": "code",
   "execution_count": 10,
   "metadata": {},
   "outputs": [
    {
     "data": {
      "text/plain": [
       "calls       3214\n",
       "minutes     3214\n",
       "messages    3214\n",
       "mb_used     3214\n",
       "is_ultra    3214\n",
       "dtype: int64"
      ]
     },
     "execution_count": 10,
     "metadata": {},
     "output_type": "execute_result"
    }
   ],
   "source": [
    "#проверим\n",
    "data_train.count() + data_valid.count() + data_test.count()"
   ]
  },
  {
   "cell_type": "markdown",
   "metadata": {},
   "source": [
    "Все разбили корректно."
   ]
  },
  {
   "cell_type": "markdown",
   "metadata": {},
   "source": [
    "## 3. Исследуйте модели <a id=\"шаг_3\"></a>"
   ]
  },
  {
   "cell_type": "markdown",
   "metadata": {},
   "source": [
    "#### Для решения задачи классификации рассмотрим изученные модели:\n",
    "\n",
    "Дерево решений (DecisionTreeClassifier)  \n",
    "Случайный лес (RandomForestClassifier)  \n",
    "Логистическую регрессию (LogisticRegression)  "
   ]
  },
  {
   "cell_type": "code",
   "execution_count": 11,
   "metadata": {},
   "outputs": [],
   "source": [
    "#Присвоим переменным признаки и целевые признаки\n",
    "features = data.drop(['is_ultra'], axis=1)\n",
    "target = data['is_ultra']\n",
    "\n",
    "#Валидационная выборка\n",
    "features_valid = data_valid.drop(['is_ultra'], axis=1)\n",
    "target_valid = data_valid['is_ultra']\n",
    "\n",
    "#Обучающая выборка\n",
    "features_train = data_train.drop(['is_ultra'], axis=1)\n",
    "target_train = data_train['is_ultra']\n",
    "\n",
    "#Тестовая выборка\n",
    "features_test = data_test.drop(['is_ultra'], axis=1)\n",
    "target_test = data_test['is_ultra']"
   ]
  },
  {
   "cell_type": "markdown",
   "metadata": {},
   "source": [
    "#### Дерево решений (DecisionTreeClassifier)"
   ]
  },
  {
   "cell_type": "code",
   "execution_count": 12,
   "metadata": {},
   "outputs": [
    {
     "name": "stdout",
     "output_type": "stream",
     "text": [
      "max_depth = 1 : 0.7542768273716952\n",
      "max_depth = 2 : 0.7822706065318819\n",
      "max_depth = 3 : 0.7853810264385692\n",
      "max_depth = 4 : 0.7791601866251944\n",
      "max_depth = 5 : 0.7791601866251944\n",
      "max_depth = 6 : 0.7838258164852255\n",
      "max_depth = 7 : 0.7822706065318819\n",
      "max_depth = 8 : 0.7791601866251944\n",
      "max_depth = 9 : 0.7822706065318819\n",
      "max_depth = 10 : 0.7744945567651633\n"
     ]
    }
   ],
   "source": [
    "for depth in range(1, 11):\n",
    "    model_DecisionTreeClassifier = DecisionTreeClassifier(random_state=12345, max_depth=depth)\n",
    "    model_DecisionTreeClassifier.fit(features_train, target_train)\n",
    "    predictions = model_DecisionTreeClassifier.predict(features_valid)\n",
    "    accuracy_DecisionTreeClassifier = accuracy_score(target_valid, predictions)\n",
    "    print(\"max_depth =\", depth, \": \", end='')\n",
    "    print(accuracy_DecisionTreeClassifier)"
   ]
  },
  {
   "cell_type": "markdown",
   "metadata": {},
   "source": [
    "Самая высокая оценка правильности 0.7853810264385692, когда задан гиперпараметр глубины равный 3."
   ]
  },
  {
   "cell_type": "markdown",
   "metadata": {},
   "source": [
    "#### Случайный лес (RandomForestClassifier)"
   ]
  },
  {
   "cell_type": "code",
   "execution_count": 13,
   "metadata": {},
   "outputs": [
    {
     "name": "stdout",
     "output_type": "stream",
     "text": [
      "estim = 10 0.7853810264385692\n",
      "estim = 20 0.7869362363919129\n",
      "estim = 30 0.7838258164852255\n",
      "estim = 40 0.7838258164852255\n",
      "estim = 50 0.7916018662519441\n",
      "estim = 60 0.7853810264385692\n",
      "estim = 70 0.7791601866251944\n",
      "estim = 80 0.7822706065318819\n",
      "estim = 90 0.7838258164852255\n"
     ]
    }
   ],
   "source": [
    "for estim in range(10, 100, 10):\n",
    "    model_RandomForestClassifier = RandomForestClassifier(random_state=12345, n_estimators=estim)\n",
    "    model_RandomForestClassifier.fit(features_train, target_train)\n",
    "    predictions = model_RandomForestClassifier.predict(features_valid)\n",
    "    accuracy_RandomForestClassifier = accuracy_score(target_valid, predictions)\n",
    "    print(\"estim =\", estim, accuracy_RandomForestClassifier)"
   ]
  },
  {
   "cell_type": "markdown",
   "metadata": {},
   "source": [
    "И результат 0.7916018662519441 при 50 деревьях."
   ]
  },
  {
   "cell_type": "markdown",
   "metadata": {},
   "source": [
    "#### Логистическая регрессия (LogisticRegression)"
   ]
  },
  {
   "cell_type": "code",
   "execution_count": 14,
   "metadata": {},
   "outputs": [
    {
     "name": "stderr",
     "output_type": "stream",
     "text": [
      "/opt/conda/lib/python3.7/site-packages/sklearn/linear_model/logistic.py:432: FutureWarning: Default solver will be changed to 'lbfgs' in 0.22. Specify a solver to silence this warning.\n",
      "  FutureWarning)\n"
     ]
    },
    {
     "data": {
      "text/plain": [
       "0.7589424572317263"
      ]
     },
     "execution_count": 14,
     "metadata": {},
     "output_type": "execute_result"
    }
   ],
   "source": [
    "model_LogisticRegression = LogisticRegression(random_state=12345)\n",
    "model_LogisticRegression.fit(features_train, target_train)\n",
    "predictions = model_LogisticRegression.predict(features_valid)\n",
    "accuracy_LogisticRegression = accuracy_score(target_valid, predictions)\n",
    "accuracy_LogisticRegression"
   ]
  },
  {
   "cell_type": "markdown",
   "metadata": {},
   "source": [
    "Самое низкое значение  0.7589424572317263"
   ]
  },
  {
   "cell_type": "markdown",
   "metadata": {},
   "source": [
    "#### Сравним все модели"
   ]
  },
  {
   "cell_type": "markdown",
   "metadata": {},
   "source": [
    "И так, соберем все лучшие значения:  \n",
    "Дерево решений (DecisionTreeClassifier): 0.7853810264385692  \n",
    "Случайный лес (RandomForestClassifier): 0.7916018662519441  \n",
    "Логистическая регрессия (LogisticRegression): 0.7589424572317263"
   ]
  },
  {
   "cell_type": "markdown",
   "metadata": {},
   "source": [
    "## 4. Проверьте модель на тестовой выборке <a id=\"шаг_4\"></a>"
   ]
  },
  {
   "cell_type": "code",
   "execution_count": 15,
   "metadata": {},
   "outputs": [
    {
     "name": "stdout",
     "output_type": "stream",
     "text": [
      "Качество модели на тестовой выборке: 0.7776049766718507\n"
     ]
    }
   ],
   "source": [
    "model = RandomForestClassifier(n_estimators=50, max_depth=3, random_state=12345)\n",
    "model.fit(features_train, target_train)\n",
    "predictions= model.predict(features_test)\n",
    "accuracy = accuracy_score(target_test, predictions)\n",
    "print('Качество модели на тестовой выборке:',accuracy)"
   ]
  },
  {
   "cell_type": "markdown",
   "metadata": {},
   "source": [
    "## 5. (бонус) Проверьте модели на адекватность <a id=\"шаг_5\"></a>"
   ]
  },
  {
   "cell_type": "markdown",
   "metadata": {},
   "source": [
    "Посчитаем количество перешедших на тариф \"Cмарт\" к общему количеству."
   ]
  },
  {
   "cell_type": "code",
   "execution_count": 16,
   "metadata": {},
   "outputs": [
    {
     "data": {
      "text/plain": [
       "calls       0.693528\n",
       "minutes     0.693528\n",
       "messages    0.693528\n",
       "mb_used     0.693528\n",
       "is_ultra    0.693528\n",
       "dtype: float64"
      ]
     },
     "execution_count": 16,
     "metadata": {},
     "output_type": "execute_result"
    }
   ],
   "source": [
    "data[data.is_ultra == 0].count() / data.count()"
   ]
  },
  {
   "cell_type": "code",
   "execution_count": 17,
   "metadata": {},
   "outputs": [
    {
     "name": "stdout",
     "output_type": "stream",
     "text": [
      "Качество модели при проверке на адекватность: 0.8018046048537648\n"
     ]
    }
   ],
   "source": [
    "features_data = data.drop(['is_ultra'], axis = 1)\n",
    "target_data = data['is_ultra']\n",
    "model_RandomForestClassifier = RandomForestClassifier(n_estimators=50, max_depth=3, random_state=12345)\n",
    "model_RandomForestClassifier.fit(features_data, target_data)\n",
    "predictions_data = model_RandomForestClassifier.predict(features_data)\n",
    "accuracy_data = accuracy_score(target_data, predictions_data)\n",
    "print('Качество модели при проверке на адекватность:',accuracy_data)\n"
   ]
  },
  {
   "cell_type": "markdown",
   "metadata": {},
   "source": [
    "#### Вывод:  \n",
    "Проверка на адекватность показала,что результат работы обученной модели лучше случайных результатов. accuracy не меньше 0.75"
   ]
  },
  {
   "cell_type": "markdown",
   "metadata": {},
   "source": [
    "## Чек-лист готовности проекта"
   ]
  },
  {
   "cell_type": "markdown",
   "metadata": {},
   "source": [
    "Поставьте 'x' в выполненных пунктах. Далее нажмите Shift+Enter."
   ]
  },
  {
   "cell_type": "markdown",
   "metadata": {},
   "source": [
    "- [x] Jupyter Notebook открыт\n",
    "- [x] Весь код исполняется без ошибок\n",
    "- [x] Ячейки с кодом расположены в порядке исполнения\n",
    "- [x] Выполнено задание 1: данные загружены и изучены\n",
    "- [x] Выполнено задание 2: данные разбиты на три выборки\n",
    "- [x] Выполнено задание 3: проведено исследование моделей\n",
    "    - [x] Рассмотрено больше одной модели\n",
    "    - [x] Рассмотрено хотя бы 3 значения гипепараметров для какой-нибудь модели\n",
    "    - [x] Написаны выводы по результатам исследования\n",
    "- [x] Выполнено задание 3: Проведено тестирование\n",
    "- [x] Удалось достичь accuracy не меньше 0.75\n"
   ]
  },
  {
   "cell_type": "code",
   "execution_count": null,
   "metadata": {},
   "outputs": [],
   "source": []
  }
 ],
 "metadata": {
  "kernelspec": {
   "display_name": "Python 3",
   "language": "python",
   "name": "python3"
  },
  "language_info": {
   "codemirror_mode": {
    "name": "ipython",
    "version": 3
   },
   "file_extension": ".py",
   "mimetype": "text/x-python",
   "name": "python",
   "nbconvert_exporter": "python",
   "pygments_lexer": "ipython3",
   "version": "3.8.5"
  },
  "toc": {
   "base_numbering": 1,
   "nav_menu": {},
   "number_sections": true,
   "sideBar": true,
   "skip_h1_title": false,
   "title_cell": "Table of Contents",
   "title_sidebar": "Contents",
   "toc_cell": false,
   "toc_position": {},
   "toc_section_display": true,
   "toc_window_display": false
  }
 },
 "nbformat": 4,
 "nbformat_minor": 2
}
